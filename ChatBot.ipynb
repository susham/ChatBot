{
 "cells": [
  {
   "cell_type": "markdown",
   "metadata": {
    "collapsed": true
   },
   "source": [
    "### Import Statements"
   ]
  },
  {
   "cell_type": "code",
   "execution_count": 1,
   "metadata": {},
   "outputs": [
    {
     "name": "stderr",
     "output_type": "stream",
     "text": [
      "/Users/priyathamanisetty/Desktop/Nirdeshika/4th Quarter-Winter'18/Machine Learning/Assignments/dermatologist-ai/Environment/lib/python2.7/site-packages/h5py/__init__.py:36: FutureWarning: Conversion of the second argument of issubdtype from `float` to `np.floating` is deprecated. In future, it will be treated as `np.float64 == np.dtype(float).type`.\n  from ._conv import register_converters as _register_converters\nUsing TensorFlow backend.\n"
     ]
    }
   ],
   "source": [
    "import keras.preprocessing.text as t\n",
    "from keras.preprocessing.sequence import pad_sequences\n",
    "import numpy as np\n",
    "import os\n",
    "import pickle"
   ]
  },
  {
   "cell_type": "markdown",
   "metadata": {},
   "source": [
    "### Clean the data [movie_lines] to extract just the lines and also create a dictionary with dialogue id as key and dialogue as value"
   ]
  },
  {
   "cell_type": "code",
   "execution_count": 2,
   "metadata": {},
   "outputs": [],
   "source": [
    "dialogue_conversation_exists = os.path.exists(os.path.join('data', 'dialogue_conversation'))\n",
    "movie_lines_exists = os.path.exists(os.path.join('data', 'movie_lines.txt'))\n",
    "\n",
    "if not (dialogue_conversation_exists & movie_lines_exists):\n",
    "    raw_movie_lines = open(os.path.join('data', 'movie_lines.txt'), 'r').read().split('\\n')[:-1]\n",
    "    dialogue_conversation = {}\n",
    "    \n",
    "    with open(os.path.join('data','just_movie_lines.txt'), 'w') as f:\n",
    "        for line in raw_movie_lines:\n",
    "            line = line.split(' +++$+++ ')\n",
    "            dialogue_id = line[0]\n",
    "            conversation = line[-1]\n",
    "            f.write(conversation + '\\n')\n",
    "            dialogue_conversation[dialogue_id] = conversation\n",
    "    \n",
    "    pickle.dump(dialogue_conversation, open(os.path.join('data', 'dialogue_conversation'), 'wb'), True)\n",
    "else:\n",
    "    dialogue_conversation = pickle.load(open(os.path.join('data', 'dialogue_conversation'), 'rb'))"
   ]
  },
  {
   "cell_type": "markdown",
   "metadata": {},
   "source": [
    "### Extract the Embedding Indices from Pre-trained model"
   ]
  },
  {
   "cell_type": "code",
   "execution_count": 3,
   "metadata": {},
   "outputs": [],
   "source": [
    "embeddings_index = {}\n",
    "if not os.path.exists(os.path.join('data', 'embeddings_index')):\n",
    "    f = open(os.path.join('glove.6B', 'glove.6B.100d.txt'))\n",
    "    for line in f:\n",
    "        values = line.split()\n",
    "        word = values[0]\n",
    "        coeffs = np.asarray(values[1:], dtype='float32')\n",
    "        embeddings_index[word] = coeffs\n",
    "    f.close()\n",
    "    \n",
    "    pickle.dump(embeddings_index, open(os.path.join('data', 'embeddings_index'), 'wb'), True)\n",
    "else:\n",
    "    embeddings_index = pickle.load(open(os.path.join('data', 'embeddings_index'), 'rb'))\n"
   ]
  },
  {
   "cell_type": "markdown",
   "metadata": {},
   "source": [
    "### Tokenize the dataset to extract words"
   ]
  },
  {
   "cell_type": "code",
   "execution_count": 4,
   "metadata": {},
   "outputs": [],
   "source": [
    "lines = open(os.path.join('data','just_movie_lines.txt'), 'r').read().split('\\n')[:-1]\n",
    "min_count = 15\n",
    "tokenizer = t.Tokenizer(lines)\n",
    "tokenizer.fit_on_texts(lines) \n",
    "num_words = sum([1 for _, v in tokenizer.word_counts.items() if v >= min_count])"
   ]
  },
  {
   "cell_type": "code",
   "execution_count": 5,
   "metadata": {},
   "outputs": [
    {
     "name": "stdout",
     "output_type": "stream",
     "text": [
      "('Current vocabulary after choosing only most frequent words', '8424')\n"
     ]
    }
   ],
   "source": [
    "print('Current vocabulary after choosing only most frequent words', str(num_words))"
   ]
  },
  {
   "cell_type": "code",
   "execution_count": 6,
   "metadata": {},
   "outputs": [],
   "source": [
    "\n",
    "tokenizer = t.Tokenizer(num_words=num_words)\n",
    "# Assigns id to words in the lines according to word count\n",
    "tokenizer.fit_on_texts(lines) \n",
    "\n",
    "# word_index is a dictionary of word and its index.\n",
    "word_index = tokenizer.word_index"
   ]
  },
  {
   "cell_type": "markdown",
   "metadata": {},
   "source": [
    "### Word to Index and Index to Word Dictionary"
   ]
  },
  {
   "cell_type": "code",
   "execution_count": 7,
   "metadata": {},
   "outputs": [],
   "source": [
    "word_to_index = {key: word_index[key] + 3 for key in word_index if word_index[key] <= num_words}\n",
    "index_to_word = {word_to_index[key]: key for key in word_to_index}\n",
    "\n",
    "word_to_index['<pad>'] = 0\n",
    "word_to_index['<bos>'] = 1\n",
    "word_to_index['<eos>'] = 2\n",
    "word_to_index['<unk>'] = 3\n",
    "\n",
    "index_to_word[0] = '<pad>'\n",
    "index_to_word[1] = '<bos>'\n",
    "index_to_word[2] = '<eos>'\n",
    "index_to_word[3] = '<unk>'"
   ]
  },
  {
   "cell_type": "markdown",
   "metadata": {},
   "source": [
    "### Extracting Conversations"
   ]
  },
  {
   "cell_type": "code",
   "execution_count": 8,
   "metadata": {},
   "outputs": [],
   "source": [
    "conversations = []\n",
    "conversations_exists = os.path.exists(os.path.join('data', 'conversations'))\n",
    "\n",
    "if not conversations_exists:\n",
    "    raw_movie_conversations = open(os.path.join('data', 'movie_conversations.txt'), 'r').read().split('\\n')[:-1]\n",
    "    \n",
    "    # Extracting the conversation list and forming a list of conversations \n",
    "    # Here con_a is previous two lines, con_a_2 is current line and con_b is next/target line.\n",
    "    for conversation in raw_movie_conversations:\n",
    "        conversation = conversation.split(' +++$+++ ')[-1]\n",
    "        conversation = conversation.replace('[', '')\n",
    "        conversation = conversation.replace(']', '')\n",
    "        conversation = conversation.replace('\\'', '')\n",
    "        conversation = conversation.split(', ')\n",
    "        \n",
    "        con_a_1 = ''\n",
    "        for i in range(len(conversation)-1):\n",
    "            \n",
    "            con_a_2 = dialogue_conversation[conversation[i]]\n",
    "            con_b = dialogue_conversation[conversation[i+1]]\n",
    "            \n",
    "            if len(con_a_1.split()) <= 50 and len(con_a_2.split()) <= 50 and len(con_b.split()) <= 50:\n",
    "                con_a = \"{} {}\".format(con_a_1, con_a_2)\n",
    "                conversations.append((con_a, con_b, con_a_2))\n",
    "            \n",
    "            con_a_1 = con_a_2\n",
    "    pickle.dump(conversations, open(os.path.join('data', 'conversations'), 'wb'), True)\n",
    "else:\n",
    "    conversations = pickle.load(open(os.path.join('data', 'conversations'), 'rb'))"
   ]
  },
  {
   "cell_type": "markdown",
   "metadata": {},
   "source": [
    "### Tokenize conversations and add padding ``<pad>``, ``<eos>``, ``<bos>`` and replace out of vocabulary words with ``<unk>``\n",
    "\n",
    "Maximum number of words in a sentence is 50 "
   ]
  },
  {
   "cell_type": "code",
   "execution_count": 14,
   "metadata": {},
   "outputs": [],
   "source": [
    "from keras.preprocessing.text import text_to_word_sequence\n",
    "from keras.preprocessing.sequence import pad_sequences\n",
    "\n",
    "max_length = 50\n",
    "vocab = word_to_index.keys()\n",
    "\n",
    "# These are not question and answers but a conversation. \n",
    "# Just for convenience sake, I used question and answer as variable names.\n",
    "question = []\n",
    "answer = []\n",
    "\n",
    "question_exists = os.path.exists(os.path.join('data', 'question'))\n",
    "answer_exists = os.path.exists(os.path.join('data', 'question'))\n",
    "\n",
    "if not (question_exists & answer_exists):\n",
    "    for conv in conversations:\n",
    "        conversation_a = conv[0]\n",
    "        conversation_b = conv[1]\n",
    "    \n",
    "        conversation_a = text_to_word_sequence(conversation_a)\n",
    "        conversation_b = text_to_word_sequence(conversation_b)\n",
    "    \n",
    "        conversation_a.insert(0, '<bos>')\n",
    "        conversation_a.append('<eos>')\n",
    "        conversation_b.insert(0, '<bos>')\n",
    "        conversation_b.append('<eos>')\n",
    "    \n",
    "        conversation_a = [word_to_index[c] if c in vocab else 3 for c in conversation_a]\n",
    "        conversation_b = [word_to_index[c] if c in vocab else 3 for c in conversation_b]\n",
    "        \n",
    "        question.append(conversation_a[:max_length])\n",
    "        answer.append(conversation_b[:max_length])\n",
    "    \n",
    "    question = pad_sequences(question, max_length, padding='pre')\n",
    "    answer = pad_sequences(answer, max_length, padding='post')\n",
    "    \n",
    "    pickle.dump(question, open(os.path.join(os.path.join('data', 'question')), 'wb'), True)\n",
    "    pickle.dump(answer, open(os.path.join(os.path.join('data', 'answer')), 'wb'), True)\n",
    "else:\n",
    "    question = pickle.load(open(os.path.join(os.path.join('data', 'question')), 'rb'))\n",
    "    answer = pickle.load(open(os.path.join(os.path.join('data', 'answer')), 'rb'))\n",
    "\n"
   ]
  },
  {
   "cell_type": "markdown",
   "metadata": {},
   "source": [
    "### Preparing Embedding Matrix"
   ]
  },
  {
   "cell_type": "code",
   "execution_count": 10,
   "metadata": {},
   "outputs": [],
   "source": [
    "embedding_matrix = np.zeros((len(word_index) + 1, 100))\n",
    "for word, i in word_index.items():\n",
    "    embedding_vector = embeddings_index.get(word)\n",
    "    if embedding_vector is not None:\n",
    "        # words not found in embedding index will be all-zeros.\n",
    "        embedding_matrix[i] = embedding_vector"
   ]
  }
 ],
 "metadata": {
  "kernelspec": {
   "display_name": "Python 2",
   "language": "python",
   "name": "python2"
  },
  "language_info": {
   "codemirror_mode": {
    "name": "ipython",
    "version": 2
   },
   "file_extension": ".py",
   "mimetype": "text/x-python",
   "name": "python",
   "nbconvert_exporter": "python",
   "pygments_lexer": "ipython2",
   "version": "2.7.6"
  }
 },
 "nbformat": 4,
 "nbformat_minor": 0
}
